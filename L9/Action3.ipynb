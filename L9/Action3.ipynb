{
 "cells": [
  {
   "cell_type": "markdown",
   "metadata": {},
   "source": [
    "\"如果你是某P2P租车的技术负责人，你会如何设计个性化推荐和搜索排序\n",
    "阐述相似车型，搜索排序的设计方法,可能的embedding策略\"\n"
   ]
  },
  {
   "cell_type": "markdown",
   "metadata": {},
   "source": [
    "个性化推荐："
   ]
  },
  {
   "cell_type": "markdown",
   "metadata": {},
   "source": [
    "1、考虑用户个人属性，对用户属性进行embedding；用户近期的点击行为，可能感兴趣的汽车\n",
    "品牌、外观、动力、油耗、价格、行程里数等信息进行embedding；对用户的历史租车订单相关信息进行\n",
    "embedding；2、采用基于模型的协同过滤，对用户可能感兴趣的车辆信息进行召回形成候选集；3、对召回\n",
    "后的候选集，通过对用户近期的点击车辆embedding信息以及历史订单的embedding进行相似度计算，根据相似度结果进行排序。"
   ]
  },
  {
   "cell_type": "markdown",
   "metadata": {},
   "source": [
    "搜索排序："
   ]
  },
  {
   "cell_type": "markdown",
   "metadata": {},
   "source": [
    "通过对用户主动query的关键词与车辆相关信息的匹配，得到相关性TopN车辆，之后可以根据用户的点击行为建立listEmbedding，\n",
    "通过对历史的点击行为序列和最终的下单行为学习，将用户最有可能下单的车辆进行排序并按排序结果呈现给用户，同时还可对用户进行个性化推荐。"
   ]
  },
  {
   "cell_type": "code",
   "execution_count": null,
   "metadata": {},
   "outputs": [],
   "source": []
  }
 ],
 "metadata": {
  "kernelspec": {
   "display_name": "Python 3",
   "language": "python",
   "name": "python3"
  },
  "language_info": {
   "codemirror_mode": {
    "name": "ipython",
    "version": 3
   },
   "file_extension": ".py",
   "mimetype": "text/x-python",
   "name": "python",
   "nbconvert_exporter": "python",
   "pygments_lexer": "ipython3",
   "version": "3.7.1"
  }
 },
 "nbformat": 4,
 "nbformat_minor": 2
}
