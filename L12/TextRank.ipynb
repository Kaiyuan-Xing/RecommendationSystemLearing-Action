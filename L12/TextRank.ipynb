{
 "cells": [
  {
   "cell_type": "code",
   "execution_count": 1,
   "metadata": {},
   "outputs": [],
   "source": [
    "from textrank4zh import TextRank4Keyword,TextRank4Sentence\n",
    "import jieba"
   ]
  },
  {
   "cell_type": "code",
   "execution_count": 8,
   "metadata": {},
   "outputs": [
    {
     "name": "stdout",
     "output_type": "stream",
     "text": [
      "土耳其未炮击美军 土耳其向美军开战\n",
      "当地时间11日，一支美国特种部队遭到了土耳其的炮弹袭击，《新闻周刊》称这明显是“误伤”。五角大楼一名高级官员说，土耳其军队的炮击非常猛烈，美国人员曾考虑进行还击是出于自卫。《新闻周刊》10月11日报道，一名库尔德情报官员和五角大楼官员均表示，在库尔德人占多数的城市科巴尼的山上，这支特种部队在执行任务时遭到炮击，炮弹落在离驻扎地几百米远的地方，没有美国士兵受伤。报道称，特种部队没有还击，而是在炮击停止后撤退。《新闻周刊》此前曾在周三报道说，目前美国军队的交战规则仍然以自卫为中心，五角大楼还没有发布全面撤出叙利亚的命令。这名五角大楼官员说，土耳其部队应该了解美国的位置，不过，这名官员没有具体说明在场人员的确切人数，但表示大约在15到100人之间。《新闻周刊》已联系五角大楼就此事发表评论。土耳其国防部针对《新闻周刊》的报道发表了一份声明，否认土耳其军队针对美国军队。土耳其国防部证实说，“土耳其在苏鲁奇以南的边境哨所，受到了来自美国一个观察哨西南方向大约1千米处山丘的迫击炮攻击。”为了自卫，双方对袭击的恐怖分子阵地进行了还击。土耳其没有以任何方式向美国观察哨开火。他说：所有的预防措施都是在开火之前采取的，目的是防止对美军基地造成任何伤害。作为预防措施，我们在收到来自美国的信息后立即停火。我们坚决反对美国或联军部队遭到袭击的说法。特朗普周四曾在社交媒体上表示，他有“三种选择之一：派遣数千名士兵并在军事上取胜，在经济上对土耳其进行严厉打击并实施制裁，或者在土耳其和库尔德人之间斡旋达成协议\"，土耳其总统埃尔多安早就警告说，他将猛攻边境，建立一个所谓的“安全区”。白宫周日宣布，美国军队将在一旁待命。\n"
     ]
    }
   ],
   "source": [
    "f  = open('news2.txt','r')\n",
    "text = f.read()\n",
    "f.close()\n",
    "print(text)"
   ]
  },
  {
   "cell_type": "code",
   "execution_count": 9,
   "metadata": {},
   "outputs": [
    {
     "name": "stdout",
     "output_type": "stream",
     "text": [
      "关键词：\n",
      "土耳其 0.048283054496701866\n",
      "美国 0.03431769248457736\n",
      "没有 0.025384829859981733\n",
      "袭击 0.01756045829062072\n",
      "军队 0.017126048762842662\n",
      "炮击 0.016318354450921762\n",
      "特种部队 0.0159713345414638\n",
      "遭到 0.015702636299029512\n",
      "五角大楼 0.015577780982434444\n",
      "进行 0.014983857537758752\n",
      "还击 0.014931498532693838\n",
      "官员 0.013950718381919067\n",
      "新闻周刊 0.013766766547396656\n",
      "表示 0.012733520601177568\n",
      "自卫 0.012069224579168956\n",
      "报道 0.011768028153992253\n",
      "炮弹 0.01168352601605043\n",
      "来自 0.010998121587169457\n",
      "人员 0.010438177551124774\n",
      "观察哨 0.010352737770232863\n"
     ]
    }
   ],
   "source": [
    "#输出关键词\n",
    "textrank = TextRank4Keyword()\n",
    "textrank.analyze(text = text,lower = True,window = 3)\n",
    "print('关键词：')\n",
    "for word in textrank.get_keywords(20,word_min_len = 2):\n",
    "    print(word.word,word.weight)"
   ]
  },
  {
   "cell_type": "code",
   "execution_count": 10,
   "metadata": {},
   "outputs": [
    {
     "name": "stdout",
     "output_type": "stream",
     "text": [
      "新闻摘要：\n",
      "2 0.08896479001637943 五角大楼一名高级官员说，土耳其军队的炮击非常猛烈，美国人员曾考虑进行还击是出于自卫\n",
      "5 0.0830447598184908 《新闻周刊》此前曾在周三报道说，目前美国军队的交战规则仍然以自卫为中心，五角大楼还没有发布全面撤出叙利亚的命令\n",
      "6 0.07822318195673084 这名五角大楼官员说，土耳其部队应该了解美国的位置，不过，这名官员没有具体说明在场人员的确切人数，但表示大约在15到100人之间\n",
      "1 0.07331067976629241 当地时间11日，一支美国特种部队遭到了土耳其的炮弹袭击，《新闻周刊》称这明显是“误伤”\n",
      "3 0.07286904961439708 《新闻周刊》10月11日报道，一名库尔德情报官员和五角大楼官员均表示，在库尔德人占多数的城市科巴尼的山上，这支特种部队在执行任务时遭到炮击，炮弹落在离驻扎地几百米远的地方，没有美国士兵受伤\n"
     ]
    }
   ],
   "source": [
    "textrank2 = TextRank4Sentence()\n",
    "textrank2.analyze(text = text ,lower = True,source = 'all_filters')\n",
    "print('新闻摘要：')\n",
    "for sentence in textrank2.get_key_sentences(num=5):\n",
    "    print(sentence.index,sentence.weight,sentence.sentence)"
   ]
  },
  {
   "cell_type": "code",
   "execution_count": null,
   "metadata": {},
   "outputs": [],
   "source": []
  }
 ],
 "metadata": {
  "kernelspec": {
   "display_name": "Python 3",
   "language": "python",
   "name": "python3"
  },
  "language_info": {
   "codemirror_mode": {
    "name": "ipython",
    "version": 3
   },
   "file_extension": ".py",
   "mimetype": "text/x-python",
   "name": "python",
   "nbconvert_exporter": "python",
   "pygments_lexer": "ipython3",
   "version": "3.7.1"
  }
 },
 "nbformat": 4,
 "nbformat_minor": 2
}
