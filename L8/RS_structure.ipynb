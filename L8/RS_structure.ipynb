{
 "cells": [
  {
   "cell_type": "markdown",
   "metadata": {},
   "source": [
    "# 基于DNN模型的推荐系统架构"
   ]
  },
  {
   "cell_type": "markdown",
   "metadata": {},
   "source": [
    "本次设计一个基于电商的推荐系统架构，按照现在常用的推荐系统架构，整体架构分为三层：数据层、策略层、应用层。\n",
    "数据层负责数据的收集和存储，包括用户数据和商品数据，并通过前端埋点、后端埋点等收集用户日志数据；\n",
    "策略层包括（1）数据分析阶段，对数据进行分析并处理，包括用户画像、商品画像，并进行对数据进行特征工程；\n",
    "（2）召回阶段，从大量的item中筛选出来一个子集来作为推荐的内容；\n",
    "（3）排序阶段，将召回的子集根据user和item各种特征来从子集当中再一次进行精细排序，并将最有可能的结果进行输出。\n",
    "应用层是将排序后的结果展示给用户，包括商品推荐，类别推荐，猜你喜欢等。\n",
    "整个推荐系统中最为关键的是策略层，召回和排序对最终推荐的结果有很大的关系，因此模型选择较为重要，采用DNN模型来设计推荐系统，可以引入更多特征，并对组合特征进行学习，\n",
    "从而使结果更为准确。"
   ]
  },
  {
   "cell_type": "markdown",
   "metadata": {},
   "source": [
    "# 召回阶段模型"
   ]
  },
  {
   "cell_type": "markdown",
   "metadata": {},
   "source": [
    "召回阶段可将商品推荐问题看成了一个大规模分类问题，即预测用户可能感兴趣的商品类别，考虑采用DNN模型，引用deep模型，通过多层网络的学习，可以\n",
    "得到各种组合特征之间的关系。"
   ]
  },
  {
   "cell_type": "markdown",
   "metadata": {},
   "source": [
    "在DNN模型中，输入是用户的搜索历史、浏览历史、点击历史以及购买历史等历史行为，还有用户画像、商品画像等信息，以及其他一些信息等，可将用户的历史\n",
    "行为通过embedding的形式映射为稠密的低维向量，以及用户画像和商品画像等也可采用embedding来将稀疏的数据转化为稠密的向量；\n",
    "隐藏层可采用三层，并且神经元的个数从1024维-512维-256维依次减少，并采用Relu函数作为激活函数从而实现特征的非线性组合；\n",
    "输出层采用softmax分类函数，直接输出商品是某个类别的概率，从而得到用户可能感兴趣的商品候选集。"
   ]
  },
  {
   "cell_type": "markdown",
   "metadata": {},
   "source": [
    "# 排序阶段模型"
   ]
  },
  {
   "cell_type": "markdown",
   "metadata": {},
   "source": [
    "排序阶段用于精准预测用户对商品的喜好程度，引入更多用户特征和商品特征，以及用户与商品之间的交互行为数据等，将召回的候选集按照用户的感兴趣程度进行精细排序，并将结果最好的Top商品推荐给用户。"
   ]
  },
  {
   "cell_type": "markdown",
   "metadata": {},
   "source": [
    "排序也可采用DNN模型，输入层仍然是用户画像，单个商品的更为详细的embedding向量，用户历史行为的embedding向量，考虑加入用户行为的时间序列\n",
    "即不同时间段的行为，产生行为的时间，该类商品是否推荐过以及推荐次数等，对输入的数据进行特征工程，将用户画像、商品画像等离散化或连续化特\n",
    "征进行归一化，对时间特征进行多种处理；\n",
    "隐藏层与召回阶段一致，可采用三层MLP层，并且维度仍呈递减模式，同时也采用relu函数作为激活函数进行训练；\n",
    "输出层可采用LR模型，输出表示用户对商品的感兴趣程度，并按照感兴趣程度对结果进行排序，将用户可能最感兴趣的Top商品推荐给用户。"
   ]
  },
  {
   "cell_type": "code",
   "execution_count": null,
   "metadata": {},
   "outputs": [],
   "source": []
  }
 ],
 "metadata": {
  "kernelspec": {
   "display_name": "Python 3",
   "language": "python",
   "name": "python3"
  },
  "language_info": {
   "codemirror_mode": {
    "name": "ipython",
    "version": 3
   },
   "file_extension": ".py",
   "mimetype": "text/x-python",
   "name": "python",
   "nbconvert_exporter": "python",
   "pygments_lexer": "ipython3",
   "version": "3.7.1"
  }
 },
 "nbformat": 4,
 "nbformat_minor": 2
}
