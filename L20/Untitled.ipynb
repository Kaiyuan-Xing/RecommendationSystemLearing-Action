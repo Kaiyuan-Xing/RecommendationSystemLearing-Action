{
 "cells": [
  {
   "cell_type": "code",
   "execution_count": 1,
   "metadata": {},
   "outputs": [],
   "source": [
    "import numpy as np\n",
    "import pandas as pd\n",
    "from sklearn.feature_extraction.text import CountVectorizer,TfidfTransformer"
   ]
  },
  {
   "cell_type": "code",
   "execution_count": 2,
   "metadata": {},
   "outputs": [],
   "source": [
    "with open('./Assignment/chinese_stopwords.txt','r',encoding='utf-8') as file:\n",
    "    stopwords = [i[:-1] for i in file.readlines()]\n",
    "#print(stopwords)  "
   ]
  },
  {
   "cell_type": "code",
   "execution_count": 3,
   "metadata": {},
   "outputs": [
    {
     "name": "stdout",
     "output_type": "stream",
     "text": [
      "(89611, 7)\n",
      "      id      author                  source  \\\n",
      "0  89617         NaN  快科技@http://www.kkj.cn/   \n",
      "1  89616         NaN  快科技@http://www.kkj.cn/   \n",
      "2  89615         NaN  快科技@http://www.kkj.cn/   \n",
      "3  89614         NaN                     新华社   \n",
      "4  89613  胡淑丽_MN7479                   深圳大件事   \n",
      "\n",
      "                                             content  \\\n",
      "0  此外，自本周（6月12日）起，除小米手机6等15款机型外，其余机型已暂停更新发布（含开发版/...   \n",
      "1  骁龙835作为唯一通过Windows 10桌面平台认证的ARM处理器，高通强调，不会因为只考...   \n",
      "2  此前的一加3T搭载的是3400mAh电池，DashCharge快充规格为5V/4A。\\r\\n...   \n",
      "3    这是6月18日在葡萄牙中部大佩德罗冈地区拍摄的被森林大火烧毁的汽车。新华社记者张立云摄\\r\\n   \n",
      "4  （原标题：44岁女子跑深圳约会网友被拒，暴雨中裸身奔走……）\\r\\n@深圳交警微博称：昨日清...   \n",
      "\n",
      "                                             feature  \\\n",
      "0  {\"type\":\"科技\",\"site\":\"cnbeta\",\"commentNum\":\"37\"...   \n",
      "1  {\"type\":\"科技\",\"site\":\"cnbeta\",\"commentNum\":\"15\"...   \n",
      "2  {\"type\":\"科技\",\"site\":\"cnbeta\",\"commentNum\":\"18\"...   \n",
      "3  {\"type\":\"国际新闻\",\"site\":\"环球\",\"commentNum\":\"0\",\"j...   \n",
      "4  {\"type\":\"新闻\",\"site\":\"网易热门\",\"commentNum\":\"978\",...   \n",
      "\n",
      "                           title  \\\n",
      "0           小米MIUI 9首批机型曝光：共计15款   \n",
      "1     骁龙835在Windows 10上的性能表现有望改善   \n",
      "2      一加手机5细节曝光：3300mAh、充半小时用1天   \n",
      "3  葡森林火灾造成至少62人死亡 政府宣布进入紧急状态（组图）   \n",
      "4       44岁女子约网友被拒暴雨中裸奔 交警为其披衣相随   \n",
      "\n",
      "                                                 url  \n",
      "0     http://www.cnbeta.com/articles/tech/623597.htm  \n",
      "1     http://www.cnbeta.com/articles/tech/623599.htm  \n",
      "2     http://www.cnbeta.com/articles/tech/623601.htm  \n",
      "3  http://world.huanqiu.com/hot/2017-06/10866126....  \n",
      "4  http://news.163.com/17/0618/00/CN617P3Q0001875...  \n"
     ]
    }
   ],
   "source": [
    "import jieba\n",
    "news = pd.read_csv('./Assignment/sqlResult.csv',encoding = 'gb18030')\n",
    "print(news.shape)\n",
    "print(news.head(5))"
   ]
  },
  {
   "cell_type": "code",
   "execution_count": 4,
   "metadata": {},
   "outputs": [
    {
     "name": "stdout",
     "output_type": "stream",
     "text": [
      "id             0\n",
      "author     10215\n",
      "source         2\n",
      "content     2557\n",
      "feature        0\n",
      "title         34\n",
      "url         2467\n",
      "dtype: int64\n"
     ]
    }
   ],
   "source": [
    "print(news.isnull().sum())"
   ]
  },
  {
   "cell_type": "code",
   "execution_count": 5,
   "metadata": {},
   "outputs": [
    {
     "name": "stdout",
     "output_type": "stream",
     "text": [
      "         id author     source content  \\\n",
      "100   89517    NaN  中国证券报?中证网     NaN   \n",
      "103   89514    NaN  中国证券报?中证网     NaN   \n",
      "997   88620    NaN        央广网     NaN   \n",
      "1273  88344    NaN        央广网     NaN   \n",
      "1282  88335    NaN        央广网     NaN   \n",
      "\n",
      "                                                feature  \\\n",
      "100   {\"type\":\"公司\",\"site\":\"中证网\",\"commentNum\":\"0\",\"jo...   \n",
      "103   {\"type\":\"公司\",\"site\":\"中证网\",\"commentNum\":\"0\",\"jo...   \n",
      "997   {\"type\":\"时事要闻\",\"site\":\"参考消息\",\"commentNum\":\"0\",...   \n",
      "1273  {\"type\":\"IT业界\",\"site\":\"参考消息\",\"commentNum\":\"0\",...   \n",
      "1282  {\"type\":\"IT业界\",\"site\":\"参考消息\",\"commentNum\":\"0\",...   \n",
      "\n",
      "                                 title  \\\n",
      "100       天和防务股东未来6个月内计划减持不超过480万股公司股份   \n",
      "103                    晶盛机电调整限制性股票回购价格   \n",
      "997              [主播不在家]第二季：主播陈亮体验垃圾清运   \n",
      "1273                LKK洛可可：想象力经济时代或已到来   \n",
      "1282  CES2017：京东发布两款叮咚智能音箱新品 开放Alpha平台   \n",
      "\n",
      "                                                    url  \n",
      "100   http://www.cs.com.cn/ssgs/gsxw/201706/t2017062...  \n",
      "103   http://www.cs.com.cn/ssgs/gsxw/201706/t2017062...  \n",
      "997   http://www.cankaoxiaoxi.com/china/20170623/214...  \n",
      "1273  http://www.cankaoxiaoxi.com/science/20170610/2...  \n",
      "1282  http://www.cankaoxiaoxi.com/science/20170610/2...  \n",
      "(87054, 7)\n"
     ]
    }
   ],
   "source": [
    "print(news[news.content.isna()].head())\n",
    "news = news.dropna(subset=['content'])\n",
    "print(news.shape)"
   ]
  },
  {
   "cell_type": "code",
   "execution_count": 6,
   "metadata": {},
   "outputs": [],
   "source": [
    "def split_text(text):\n",
    "    text = text.replace(' ','')\n",
    "    text = text.replace('\\n','')\n",
    "    text2 = jieba.cut(text)\n",
    "    result = ' '.join([w for w in text2 if w not in stopwords])\n",
    "    return result"
   ]
  },
  {
   "cell_type": "code",
   "execution_count": 7,
   "metadata": {},
   "outputs": [
    {
     "name": "stderr",
     "output_type": "stream",
     "text": [
      "Building prefix dict from the default dictionary ...\n",
      "Loading model from cache C:\\Users\\邢开源\\AppData\\Local\\Temp\\jieba.cache\n"
     ]
    },
    {
     "name": "stdout",
     "output_type": "stream",
     "text": [
      "此外，自本周（6月12日）起，除小米手机6等15款机型外，其余机型已暂停更新发布（含开发版/体验版内测，稳定版暂不受影响），以确保工程师可以集中全部精力进行系统优化工作。有人猜测这也是将精力主要用到MIUI 9的研发之中。\n",
      "MIUI 8去年5月发布，距今已有一年有余，也是时候更新换代了。\n",
      "当然，关于MIUI 9的确切信息，我们还是等待官方消息。\n",
      "\n"
     ]
    },
    {
     "name": "stderr",
     "output_type": "stream",
     "text": [
      "Loading model cost 0.606 seconds.\n",
      "Prefix dict has been built succesfully.\n"
     ]
    },
    {
     "name": "stdout",
     "output_type": "stream",
     "text": [
      " 当然 MIUI9 确切 信息 等待 官方消息 \n"
     ]
    }
   ],
   "source": [
    "print(news.iloc[0].content)\n",
    "print(split_text(news.iloc[0].content))"
   ]
  },
  {
   "cell_type": "code",
   "execution_count": 8,
   "metadata": {},
   "outputs": [],
   "source": [
    "import pickle\n",
    "import os\n",
    "if not os.path.exists('corpus.pkl'):\n",
    "    corpus = list(map(split_text,[str(i) for i in news.content]))\n",
    "    print(corpus[0])\n",
    "    with open('corpus.pkl','wb') as file :\n",
    "        pickle.dump(corpus,file)\n",
    "else:\n",
    "    with open('corpus.pkl','rb')as file:\n",
    "        corpus = pickle.load(file)"
   ]
  },
  {
   "cell_type": "code",
   "execution_count": 8,
   "metadata": {},
   "outputs": [],
   "source": [
    "countvectorizer  = CountVectorizer(encoding = 'gb18030',min_df = 0.015)\n",
    "tfidftransformer = TfidfTransformer()\n",
    "\n",
    "countvector = countvectorizer.fit_transform(corpus)\n",
    "tfidf = tfidftransformer.fit_transform(countvector)"
   ]
  },
  {
   "cell_type": "code",
   "execution_count": 9,
   "metadata": {},
   "outputs": [],
   "source": [
    "label = list(map(lambda source : 1 if '新华' in str(source) else 0,news.source))"
   ]
  },
  {
   "cell_type": "code",
   "execution_count": 10,
   "metadata": {},
   "outputs": [],
   "source": [
    "from sklearn.model_selection import train_test_split\n",
    "x_train,x_test,y_train,y_test = train_test_split(tfidf.toarray(),label,test_size = 0.3) "
   ]
  },
  {
   "cell_type": "code",
   "execution_count": null,
   "metadata": {},
   "outputs": [],
   "source": []
  },
  {
   "cell_type": "code",
   "execution_count": 11,
   "metadata": {},
   "outputs": [
    {
     "data": {
      "text/plain": [
       "MultinomialNB(alpha=1.0, class_prior=None, fit_prior=True)"
      ]
     },
     "execution_count": 11,
     "metadata": {},
     "output_type": "execute_result"
    }
   ],
   "source": [
    "from sklearn.naive_bayes import MultinomialNB\n",
    "model = MultinomialNB()\n",
    "model.fit(x_train,y_train)"
   ]
  },
  {
   "cell_type": "code",
   "execution_count": 12,
   "metadata": {},
   "outputs": [
    {
     "name": "stdout",
     "output_type": "stream",
     "text": [
      "可能为copy的新闻 2825\n"
     ]
    }
   ],
   "source": [
    "prediction = model.predict(tfidf.toarray())\n",
    "labels = np.array(label)\n",
    "compare_news_index = pd.DataFrame({'prediction':prediction,'labels':labels})\n",
    "copy_news_index = compare_news_index[(compare_news_index['prediction']==1)&(compare_news_index['labels']==0)].index \n",
    "print('可能为copy的新闻',len(copy_news_index))"
   ]
  },
  {
   "cell_type": "code",
   "execution_count": 13,
   "metadata": {},
   "outputs": [],
   "source": [
    "from sklearn.preprocessing import Normalizer\n",
    "from sklearn.cluster import KMeans"
   ]
  },
  {
   "cell_type": "code",
   "execution_count": 14,
   "metadata": {},
   "outputs": [],
   "source": [
    "normalizer = Normalizer()\n",
    "scaled_array = normalizer.fit_transform(tfidf.toarray())\n",
    "kmeans = KMeans(n_clusters=25)\n",
    "k_labels = kmeans.fit_predict(scaled_array)\n",
    "if not os.path.exists('label.pkl'):\n",
    "    with open('label.pkl','wb') as file:\n",
    "        pickle.dump(k_labels,file)\n",
    "else:\n",
    "    with open('label.pkl','rb')as file:\n",
    "        k_labels = pickle.load(file)"
   ]
  },
  {
   "cell_type": "code",
   "execution_count": 23,
   "metadata": {},
   "outputs": [],
   "source": [
    "id_calss = {index:class_ for index,class_ in enumerate(k_labels)}\n",
    "if not os.path.exists('id_class.pkl'):\n",
    "    with open('id_class.pkl','wb') as file :\n",
    "        pickle.dump(id_calss,file)\n",
    "else:\n",
    "    with open('id_class.pkl','rb') as file :\n",
    "        id_class = pickle.load(file)\n",
    "    \n",
    "xinhua_news_index = compare_news_index[(compare_news_index['labels']==1)].index\n",
    "from collections import  defaultdict\n",
    "class_id = defaultdict(set)\n",
    "for index,class_ in id_calss.items():\n",
    "    if index in xinhua_news_index.tolist():\n",
    "        class_id[class_].add(index)\n",
    "if not os.path.exists('class_id.pkl'):\n",
    "    with open('class_id.pkl','wb') as file:\n",
    "        pickle.dump(class_id,file)\n",
    "else:\n",
    "    with open('class_id.pkl','rb')as file:\n",
    "        class_id = pickle.load(file)"
   ]
  },
  {
   "cell_type": "code",
   "execution_count": 25,
   "metadata": {},
   "outputs": [],
   "source": [
    "from sklearn.metrics.pairwise import cosine_similarity\n",
    "def get_similar_text(cpindex,top =10):\n",
    "    dist_dict = {i:cosine_similarity(tfidf[cpindex],tfidf[i]) for i in class_id[id_class[cpindex]]}\n",
    "    return sorted(dist_dict.items(),key = lambda x:x[1][0],reverse = True)[:top]"
   ]
  },
  {
   "cell_type": "code",
   "execution_count": 27,
   "metadata": {},
   "outputs": [],
   "source": [
    "import editdistance"
   ]
  },
  {
   "cell_type": "code",
   "execution_count": 31,
   "metadata": {},
   "outputs": [
    {
     "name": "stdout",
     "output_type": "stream",
     "text": [
      "怀疑抄袭：\n",
      " 此外，自本周（6月12日）起，除小米手机6等15款机型外，其余机型已暂停更新发布（含开发版/体验版内测，稳定版暂不受影响），以确保工程师可以集中全部精力进行系统优化工作。有人猜测这也是将精力主要用到MIUI 9的研发之中。\n",
      "MIUI 8去年5月发布，距今已有一年有余，也是时候更新换代了。\n",
      "当然，关于MIUI 9的确切信息，我们还是等待官方消息。\n",
      "\n",
      "相似原文：\n",
      " 　　新华社北京4月10日电（记者孔祥鑫）记者10日从北京市住建委获悉，北京市对“商改住”进行限购以来，严格查处违规发布商办类项目用于居住的中介信息。近日，北京市住建委会同市工商局、市网信办对安居客房地产信息网站违规发布商办项目房源信息进行执法检查。目前，安居客已经下架全部商办项目房源信息，涉事房地产中介公司已被注销备案。\\n　　经执法检查发现，房地产中介机构和个人以“独立经纪人”名义在安居客网站发布相关信息，存在违规代理商办类房屋销售或者虚假宣传商办类房屋居住用途的情况。安居客网站作为网络信息发布平台，对此类信息未核查，违反了北京市相关规定。\\n　　对于违规发布信息的北京中天置地房地产经纪有限公司第二分公司、北京恒洋我家房地产经纪有限公司第十四分公司、北京我淘我家房地产经纪有限公司回龙观分公司等三家房地产中介公司，执法部门已经责令关停并注销经纪机构备案。同时，北京市网信办责令安居客下架全部涉事房源信息，并要求安居客对今后在网站上发布的房源信息进行充分核实。\\n　　此外，在检查中还发现，有部分所谓“独立经纪人”在安居客等网站上发布房源信息。《房地产经纪管理办法》明确规定，房地产经纪业务应当由房地产经纪机构统一承接，房地产经纪人员不得以个人名义承接房地产经纪业务。这类“独立经纪人”及其所在的经纪机构将受到严查。\\n　　下一步，北京市住建委将会同工商、网络管理部门开展专项执法行动，重点查处房地产经纪机构在网站上发布虚假房源信息、以“独立经纪人”个人名义在网站发布房源信息等行为，并加大执法检查力度，规范房地产类网站平台的经营活动。（完）\\n\\n\n",
      "编辑距离： 761\n"
     ]
    }
   ],
   "source": [
    "cpindex = 0\n",
    "\n",
    "similar_list = get_similar_text(cpindex)\n",
    "print('怀疑抄袭：\\n',news.iloc[cpindex].content)\n",
    "\n",
    "similar2 = similar_list[0][0]\n",
    "print('相似原文：\\n',news.iloc[similar2].content)\n",
    "\n",
    "print('编辑距离：',editdistance.eval(corpus[cpindex],corpus[similar2]))"
   ]
  },
  {
   "cell_type": "code",
   "execution_count": null,
   "metadata": {},
   "outputs": [],
   "source": []
  }
 ],
 "metadata": {
  "kernelspec": {
   "display_name": "Python 3",
   "language": "python",
   "name": "python3"
  },
  "language_info": {
   "codemirror_mode": {
    "name": "ipython",
    "version": 3
   },
   "file_extension": ".py",
   "mimetype": "text/x-python",
   "name": "python",
   "nbconvert_exporter": "python",
   "pygments_lexer": "ipython3",
   "version": "3.7.1"
  }
 },
 "nbformat": 4,
 "nbformat_minor": 2
}
