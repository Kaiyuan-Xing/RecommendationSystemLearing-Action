{
 "cells": [
  {
   "cell_type": "code",
   "execution_count": 2,
   "metadata": {},
   "outputs": [
    {
     "name": "stdout",
     "output_type": "stream",
     "text": [
      "<class 'pandas.core.frame.DataFrame'>\n",
      "RangeIndex: 10000 entries, 0 to 9999\n",
      "Data columns (total 25 columns):\n",
      "Unnamed: 0          10000 non-null int64\n",
      "id                  10000 non-null uint64\n",
      "click               10000 non-null int64\n",
      "hour                10000 non-null int64\n",
      "C1                  10000 non-null int64\n",
      "banner_pos          10000 non-null int64\n",
      "site_id             10000 non-null object\n",
      "site_domain         10000 non-null object\n",
      "site_category       10000 non-null object\n",
      "app_id              10000 non-null object\n",
      "app_domain          10000 non-null object\n",
      "app_category        10000 non-null object\n",
      "device_id           10000 non-null object\n",
      "device_ip           10000 non-null object\n",
      "device_model        10000 non-null object\n",
      "device_type         10000 non-null int64\n",
      "device_conn_type    10000 non-null int64\n",
      "C14                 10000 non-null int64\n",
      "C15                 10000 non-null int64\n",
      "C16                 10000 non-null int64\n",
      "C17                 10000 non-null int64\n",
      "C18                 10000 non-null int64\n",
      "C19                 10000 non-null int64\n",
      "C20                 10000 non-null int64\n",
      "C21                 10000 non-null int64\n",
      "dtypes: int64(15), object(9), uint64(1)\n",
      "memory usage: 1.9+ MB\n"
     ]
    },
    {
     "data": {
      "text/html": [
       "<div>\n",
       "<style scoped>\n",
       "    .dataframe tbody tr th:only-of-type {\n",
       "        vertical-align: middle;\n",
       "    }\n",
       "\n",
       "    .dataframe tbody tr th {\n",
       "        vertical-align: top;\n",
       "    }\n",
       "\n",
       "    .dataframe thead th {\n",
       "        text-align: right;\n",
       "    }\n",
       "</style>\n",
       "<table border=\"1\" class=\"dataframe\">\n",
       "  <thead>\n",
       "    <tr style=\"text-align: right;\">\n",
       "      <th></th>\n",
       "      <th>Unnamed: 0</th>\n",
       "      <th>id</th>\n",
       "      <th>click</th>\n",
       "      <th>hour</th>\n",
       "      <th>C1</th>\n",
       "      <th>banner_pos</th>\n",
       "      <th>site_id</th>\n",
       "      <th>site_domain</th>\n",
       "      <th>site_category</th>\n",
       "      <th>app_id</th>\n",
       "      <th>...</th>\n",
       "      <th>device_type</th>\n",
       "      <th>device_conn_type</th>\n",
       "      <th>C14</th>\n",
       "      <th>C15</th>\n",
       "      <th>C16</th>\n",
       "      <th>C17</th>\n",
       "      <th>C18</th>\n",
       "      <th>C19</th>\n",
       "      <th>C20</th>\n",
       "      <th>C21</th>\n",
       "    </tr>\n",
       "  </thead>\n",
       "  <tbody>\n",
       "    <tr>\n",
       "      <th>0</th>\n",
       "      <td>0</td>\n",
       "      <td>1000009418151094273</td>\n",
       "      <td>0</td>\n",
       "      <td>14102100</td>\n",
       "      <td>1005</td>\n",
       "      <td>0</td>\n",
       "      <td>1fbe01fe</td>\n",
       "      <td>f3845767</td>\n",
       "      <td>28905ebd</td>\n",
       "      <td>ecad2386</td>\n",
       "      <td>...</td>\n",
       "      <td>1</td>\n",
       "      <td>2</td>\n",
       "      <td>15706</td>\n",
       "      <td>320</td>\n",
       "      <td>50</td>\n",
       "      <td>1722</td>\n",
       "      <td>0</td>\n",
       "      <td>35</td>\n",
       "      <td>-1</td>\n",
       "      <td>79</td>\n",
       "    </tr>\n",
       "    <tr>\n",
       "      <th>1</th>\n",
       "      <td>1</td>\n",
       "      <td>10000169349117863715</td>\n",
       "      <td>0</td>\n",
       "      <td>14102100</td>\n",
       "      <td>1005</td>\n",
       "      <td>0</td>\n",
       "      <td>1fbe01fe</td>\n",
       "      <td>f3845767</td>\n",
       "      <td>28905ebd</td>\n",
       "      <td>ecad2386</td>\n",
       "      <td>...</td>\n",
       "      <td>1</td>\n",
       "      <td>0</td>\n",
       "      <td>15704</td>\n",
       "      <td>320</td>\n",
       "      <td>50</td>\n",
       "      <td>1722</td>\n",
       "      <td>0</td>\n",
       "      <td>35</td>\n",
       "      <td>100084</td>\n",
       "      <td>79</td>\n",
       "    </tr>\n",
       "    <tr>\n",
       "      <th>2</th>\n",
       "      <td>2</td>\n",
       "      <td>10000371904215119486</td>\n",
       "      <td>0</td>\n",
       "      <td>14102100</td>\n",
       "      <td>1005</td>\n",
       "      <td>0</td>\n",
       "      <td>1fbe01fe</td>\n",
       "      <td>f3845767</td>\n",
       "      <td>28905ebd</td>\n",
       "      <td>ecad2386</td>\n",
       "      <td>...</td>\n",
       "      <td>1</td>\n",
       "      <td>0</td>\n",
       "      <td>15704</td>\n",
       "      <td>320</td>\n",
       "      <td>50</td>\n",
       "      <td>1722</td>\n",
       "      <td>0</td>\n",
       "      <td>35</td>\n",
       "      <td>100084</td>\n",
       "      <td>79</td>\n",
       "    </tr>\n",
       "    <tr>\n",
       "      <th>3</th>\n",
       "      <td>3</td>\n",
       "      <td>10000640724480838376</td>\n",
       "      <td>0</td>\n",
       "      <td>14102100</td>\n",
       "      <td>1005</td>\n",
       "      <td>0</td>\n",
       "      <td>1fbe01fe</td>\n",
       "      <td>f3845767</td>\n",
       "      <td>28905ebd</td>\n",
       "      <td>ecad2386</td>\n",
       "      <td>...</td>\n",
       "      <td>1</td>\n",
       "      <td>0</td>\n",
       "      <td>15706</td>\n",
       "      <td>320</td>\n",
       "      <td>50</td>\n",
       "      <td>1722</td>\n",
       "      <td>0</td>\n",
       "      <td>35</td>\n",
       "      <td>100084</td>\n",
       "      <td>79</td>\n",
       "    </tr>\n",
       "    <tr>\n",
       "      <th>4</th>\n",
       "      <td>4</td>\n",
       "      <td>10000679056417042096</td>\n",
       "      <td>0</td>\n",
       "      <td>14102100</td>\n",
       "      <td>1005</td>\n",
       "      <td>1</td>\n",
       "      <td>fe8cc448</td>\n",
       "      <td>9166c161</td>\n",
       "      <td>0569f928</td>\n",
       "      <td>ecad2386</td>\n",
       "      <td>...</td>\n",
       "      <td>1</td>\n",
       "      <td>0</td>\n",
       "      <td>18993</td>\n",
       "      <td>320</td>\n",
       "      <td>50</td>\n",
       "      <td>2161</td>\n",
       "      <td>0</td>\n",
       "      <td>35</td>\n",
       "      <td>-1</td>\n",
       "      <td>157</td>\n",
       "    </tr>\n",
       "    <tr>\n",
       "      <th>5</th>\n",
       "      <td>5</td>\n",
       "      <td>10000720757801103869</td>\n",
       "      <td>0</td>\n",
       "      <td>14102100</td>\n",
       "      <td>1005</td>\n",
       "      <td>0</td>\n",
       "      <td>d6137915</td>\n",
       "      <td>bb1ef334</td>\n",
       "      <td>f028772b</td>\n",
       "      <td>ecad2386</td>\n",
       "      <td>...</td>\n",
       "      <td>1</td>\n",
       "      <td>0</td>\n",
       "      <td>16920</td>\n",
       "      <td>320</td>\n",
       "      <td>50</td>\n",
       "      <td>1899</td>\n",
       "      <td>0</td>\n",
       "      <td>431</td>\n",
       "      <td>100077</td>\n",
       "      <td>117</td>\n",
       "    </tr>\n",
       "    <tr>\n",
       "      <th>6</th>\n",
       "      <td>6</td>\n",
       "      <td>10000724729988544911</td>\n",
       "      <td>0</td>\n",
       "      <td>14102100</td>\n",
       "      <td>1005</td>\n",
       "      <td>0</td>\n",
       "      <td>8fda644b</td>\n",
       "      <td>25d4cfcd</td>\n",
       "      <td>f028772b</td>\n",
       "      <td>ecad2386</td>\n",
       "      <td>...</td>\n",
       "      <td>1</td>\n",
       "      <td>0</td>\n",
       "      <td>20362</td>\n",
       "      <td>320</td>\n",
       "      <td>50</td>\n",
       "      <td>2333</td>\n",
       "      <td>0</td>\n",
       "      <td>39</td>\n",
       "      <td>-1</td>\n",
       "      <td>157</td>\n",
       "    </tr>\n",
       "    <tr>\n",
       "      <th>7</th>\n",
       "      <td>7</td>\n",
       "      <td>10000918755742328737</td>\n",
       "      <td>0</td>\n",
       "      <td>14102100</td>\n",
       "      <td>1005</td>\n",
       "      <td>1</td>\n",
       "      <td>e151e245</td>\n",
       "      <td>7e091613</td>\n",
       "      <td>f028772b</td>\n",
       "      <td>ecad2386</td>\n",
       "      <td>...</td>\n",
       "      <td>1</td>\n",
       "      <td>0</td>\n",
       "      <td>20632</td>\n",
       "      <td>320</td>\n",
       "      <td>50</td>\n",
       "      <td>2374</td>\n",
       "      <td>3</td>\n",
       "      <td>39</td>\n",
       "      <td>-1</td>\n",
       "      <td>23</td>\n",
       "    </tr>\n",
       "    <tr>\n",
       "      <th>8</th>\n",
       "      <td>8</td>\n",
       "      <td>10000949271186029916</td>\n",
       "      <td>1</td>\n",
       "      <td>14102100</td>\n",
       "      <td>1005</td>\n",
       "      <td>0</td>\n",
       "      <td>1fbe01fe</td>\n",
       "      <td>f3845767</td>\n",
       "      <td>28905ebd</td>\n",
       "      <td>ecad2386</td>\n",
       "      <td>...</td>\n",
       "      <td>1</td>\n",
       "      <td>2</td>\n",
       "      <td>15707</td>\n",
       "      <td>320</td>\n",
       "      <td>50</td>\n",
       "      <td>1722</td>\n",
       "      <td>0</td>\n",
       "      <td>35</td>\n",
       "      <td>-1</td>\n",
       "      <td>79</td>\n",
       "    </tr>\n",
       "    <tr>\n",
       "      <th>9</th>\n",
       "      <td>9</td>\n",
       "      <td>10001264480619467364</td>\n",
       "      <td>0</td>\n",
       "      <td>14102100</td>\n",
       "      <td>1002</td>\n",
       "      <td>0</td>\n",
       "      <td>84c7ba46</td>\n",
       "      <td>c4e18dd6</td>\n",
       "      <td>50e219e0</td>\n",
       "      <td>ecad2386</td>\n",
       "      <td>...</td>\n",
       "      <td>0</td>\n",
       "      <td>0</td>\n",
       "      <td>21689</td>\n",
       "      <td>320</td>\n",
       "      <td>50</td>\n",
       "      <td>2496</td>\n",
       "      <td>3</td>\n",
       "      <td>167</td>\n",
       "      <td>100191</td>\n",
       "      <td>23</td>\n",
       "    </tr>\n",
       "  </tbody>\n",
       "</table>\n",
       "<p>10 rows × 25 columns</p>\n",
       "</div>"
      ],
      "text/plain": [
       "   Unnamed: 0                    id  click      hour    C1  banner_pos  \\\n",
       "0           0   1000009418151094273      0  14102100  1005           0   \n",
       "1           1  10000169349117863715      0  14102100  1005           0   \n",
       "2           2  10000371904215119486      0  14102100  1005           0   \n",
       "3           3  10000640724480838376      0  14102100  1005           0   \n",
       "4           4  10000679056417042096      0  14102100  1005           1   \n",
       "5           5  10000720757801103869      0  14102100  1005           0   \n",
       "6           6  10000724729988544911      0  14102100  1005           0   \n",
       "7           7  10000918755742328737      0  14102100  1005           1   \n",
       "8           8  10000949271186029916      1  14102100  1005           0   \n",
       "9           9  10001264480619467364      0  14102100  1002           0   \n",
       "\n",
       "    site_id site_domain site_category    app_id  ... device_type  \\\n",
       "0  1fbe01fe    f3845767      28905ebd  ecad2386  ...           1   \n",
       "1  1fbe01fe    f3845767      28905ebd  ecad2386  ...           1   \n",
       "2  1fbe01fe    f3845767      28905ebd  ecad2386  ...           1   \n",
       "3  1fbe01fe    f3845767      28905ebd  ecad2386  ...           1   \n",
       "4  fe8cc448    9166c161      0569f928  ecad2386  ...           1   \n",
       "5  d6137915    bb1ef334      f028772b  ecad2386  ...           1   \n",
       "6  8fda644b    25d4cfcd      f028772b  ecad2386  ...           1   \n",
       "7  e151e245    7e091613      f028772b  ecad2386  ...           1   \n",
       "8  1fbe01fe    f3845767      28905ebd  ecad2386  ...           1   \n",
       "9  84c7ba46    c4e18dd6      50e219e0  ecad2386  ...           0   \n",
       "\n",
       "  device_conn_type    C14  C15 C16   C17  C18  C19     C20  C21  \n",
       "0                2  15706  320  50  1722    0   35      -1   79  \n",
       "1                0  15704  320  50  1722    0   35  100084   79  \n",
       "2                0  15704  320  50  1722    0   35  100084   79  \n",
       "3                0  15706  320  50  1722    0   35  100084   79  \n",
       "4                0  18993  320  50  2161    0   35      -1  157  \n",
       "5                0  16920  320  50  1899    0  431  100077  117  \n",
       "6                0  20362  320  50  2333    0   39      -1  157  \n",
       "7                0  20632  320  50  2374    3   39      -1   23  \n",
       "8                2  15707  320  50  1722    0   35      -1   79  \n",
       "9                0  21689  320  50  2496    3  167  100191   23  \n",
       "\n",
       "[10 rows x 25 columns]"
      ]
     },
     "execution_count": 2,
     "metadata": {},
     "output_type": "execute_result"
    }
   ],
   "source": [
    "import pandas as pd\n",
    "data = pd.read_csv('train_sample.csv', verbose=False)\n",
    "data.shape\n",
    "#import graphlab as gl\n",
    "#data = gl.SFrame.read_csv('train_subset.csv', verbose=False)\n",
    "#数据包含列及类型了解\n",
    "data.info()\n",
    "#数据概览\n",
    "data.head(10)"
   ]
  },
  {
   "cell_type": "code",
   "execution_count": 3,
   "metadata": {},
   "outputs": [
    {
     "data": {
      "text/plain": [
       "0.1706"
      ]
     },
     "execution_count": 3,
     "metadata": {},
     "output_type": "execute_result"
    }
   ],
   "source": [
    "#click点击率baseline\n",
    "data['click'].mean()"
   ]
  },
  {
   "cell_type": "code",
   "execution_count": 4,
   "metadata": {},
   "outputs": [
    {
     "data": {
      "text/plain": [
       "device_type  click\n",
       "0            0         303\n",
       "             1          78\n",
       "1            0        7669\n",
       "             1        1604\n",
       "4            0         297\n",
       "             1          24\n",
       "5            0          25\n",
       "Name: device_type, dtype: int64"
      ]
     },
     "execution_count": 4,
     "metadata": {},
     "output_type": "execute_result"
    }
   ],
   "source": [
    "#数据探索\n",
    "#data.groupby('device_type', {'CTR':gl.aggregate.MEAN('click')})\n",
    "data['device_type'].groupby([data['device_type'],data['click']]).count()"
   ]
  },
  {
   "cell_type": "code",
   "execution_count": 5,
   "metadata": {},
   "outputs": [
    {
     "data": {
      "text/plain": [
       "C1    click\n",
       "1001  0           3\n",
       "      1           1\n",
       "1002  0         303\n",
       "      1          78\n",
       "1005  0        7655\n",
       "      1        1601\n",
       "1007  0          11\n",
       "1008  1           2\n",
       "1010  0         322\n",
       "      1          24\n",
       "Name: C1, dtype: int64"
      ]
     },
     "execution_count": 5,
     "metadata": {},
     "output_type": "execute_result"
    }
   ],
   "source": [
    "#数据探索\n",
    "#data.groupby('C1', {'CTR':gl.aggregate.MEAN('click')})\n",
    "data['C1'].groupby([data['C1'],data['click']]).count()"
   ]
  },
  {
   "cell_type": "code",
   "execution_count": 6,
   "metadata": {},
   "outputs": [
    {
     "data": {
      "text/plain": [
       "C15\n",
       "216      79\n",
       "300     391\n",
       "320    9528\n",
       "728       2\n",
       "Name: C15, dtype: int64"
      ]
     },
     "execution_count": 6,
     "metadata": {},
     "output_type": "execute_result"
    }
   ],
   "source": [
    "#数据探索\n",
    "#data['C15'].sketch_summary().frequent_items()\n",
    "data['C15'].groupby([data['C15']]).count()"
   ]
  },
  {
   "cell_type": "code",
   "execution_count": 7,
   "metadata": {},
   "outputs": [
    {
     "data": {
      "text/plain": [
       "C16\n",
       "36       79\n",
       "50     9568\n",
       "90        2\n",
       "250     348\n",
       "480       3\n",
       "Name: C16, dtype: int64"
      ]
     },
     "execution_count": 7,
     "metadata": {},
     "output_type": "execute_result"
    }
   ],
   "source": [
    "#数据探索\n",
    "#data['C16'].sketch_summary().frequent_items()\n",
    "data['C16'].groupby([data['C16']]).count()"
   ]
  },
  {
   "cell_type": "code",
   "execution_count": 8,
   "metadata": {},
   "outputs": [
    {
     "name": "stdout",
     "output_type": "stream",
     "text": [
      "<class 'pandas.core.frame.DataFrame'>\n",
      "RangeIndex: 10000 entries, 0 to 9999\n",
      "Data columns (total 25 columns):\n",
      "Unnamed: 0          10000 non-null int64\n",
      "id                  10000 non-null uint64\n",
      "click               10000 non-null int64\n",
      "hour                10000 non-null int64\n",
      "C1                  10000 non-null object\n",
      "banner_pos          10000 non-null int64\n",
      "site_id             10000 non-null object\n",
      "site_domain         10000 non-null object\n",
      "site_category       10000 non-null object\n",
      "app_id              10000 non-null object\n",
      "app_domain          10000 non-null object\n",
      "app_category        10000 non-null object\n",
      "device_id           10000 non-null object\n",
      "device_ip           10000 non-null object\n",
      "device_model        10000 non-null object\n",
      "device_type         10000 non-null object\n",
      "device_conn_type    10000 non-null int64\n",
      "C14                 10000 non-null int64\n",
      "C15                 10000 non-null int64\n",
      "C16                 10000 non-null int64\n",
      "C17                 10000 non-null int64\n",
      "C18                 10000 non-null int64\n",
      "C19                 10000 non-null int64\n",
      "C20                 10000 non-null int64\n",
      "C21                 10000 non-null int64\n",
      "dtypes: int64(13), object(11), uint64(1)\n",
      "memory usage: 1.9+ MB\n"
     ]
    }
   ],
   "source": [
    "#实际为分类变量但存储为int, 此处转换为字符串\n",
    "data['device_type'] = data['device_type'].astype(str)\n",
    "data['C1'] = data['C1'].astype(str)\n",
    "data.info()"
   ]
  },
  {
   "cell_type": "code",
   "execution_count": 11,
   "metadata": {},
   "outputs": [],
   "source": [
    "#训练集与测试集切割\n",
    "#train_data, test_data = data.random_split(0.8, seed=1)\n",
    "from sklearn.model_selection import train_test_split  #交叉验证\n",
    "train_data, test_data = train_test_split(data, test_size=0.3, random_state=0) "
   ]
  },
  {
   "cell_type": "code",
   "execution_count": 18,
   "metadata": {},
   "outputs": [
    {
     "name": "stdout",
     "output_type": "stream",
     "text": [
      "<class 'pandas.core.frame.DataFrame'>\n",
      "Int64Index: 7000 entries, 7681 to 2732\n",
      "Data columns (total 5 columns):\n",
      "click          7000 non-null int64\n",
      "device_type    7000 non-null object\n",
      "C1             7000 non-null object\n",
      "C15            7000 non-null int64\n",
      "C16            7000 non-null int64\n",
      "dtypes: int64(3), object(2)\n",
      "memory usage: 328.1+ KB\n"
     ]
    },
    {
     "name": "stderr",
     "output_type": "stream",
     "text": [
      "D:\\Program Files\\Anaconda3\\lib\\site-packages\\ipykernel_launcher.py:10: FutureWarning: Method .as_matrix will be removed in a future version. Use .values instead.\n",
      "  # Remove the CWD from sys.path while we load stuff.\n",
      "D:\\Program Files\\Anaconda3\\lib\\site-packages\\ipykernel_launcher.py:11: FutureWarning: Method .as_matrix will be removed in a future version. Use .values instead.\n",
      "  # This is added back by InteractiveShellApp.init_path()\n"
     ]
    },
    {
     "data": {
      "text/plain": [
       "LogisticRegression(C=1.0, class_weight=None, dual=False, fit_intercept=True,\n",
       "                   intercept_scaling=1, l1_ratio=None, max_iter=100,\n",
       "                   multi_class='auto', n_jobs=None, penalty='l2',\n",
       "                   random_state=None, solver='lbfgs', tol=1e-06, verbose=0,\n",
       "                   warm_start=False)"
      ]
     },
     "execution_count": 18,
     "metadata": {},
     "output_type": "execute_result"
    }
   ],
   "source": [
    "#模型训练\n",
    "model_feature='click|device_type|C1|C15|C16'\n",
    "model_index=['click','device_type','C1','C15','C16']\n",
    "train_df = train_data.filter(regex=model_feature)\n",
    "index=model_index\n",
    "train_df=train_df.reindex(index,axis=1)  \n",
    "train_df.info()\n",
    "\n",
    "from sklearn import linear_model #训练模型\n",
    "x_train=train_df.as_matrix()[:,1:]\n",
    "y_train= train_df.as_matrix()[:,0]\n",
    "clf = linear_model.LogisticRegression(C=1.0, penalty='l2', tol=1e-6)\n",
    "clf.fit(x_train,y_train.astype('int'))"
   ]
  },
  {
   "cell_type": "code",
   "execution_count": 19,
   "metadata": {},
   "outputs": [
    {
     "name": "stderr",
     "output_type": "stream",
     "text": [
      "D:\\Program Files\\Anaconda3\\lib\\site-packages\\sklearn\\externals\\joblib\\__init__.py:15: FutureWarning: sklearn.externals.joblib is deprecated in 0.21 and will be removed in 0.23. Please import this functionality directly from joblib, which can be installed with: pip install joblib. If this warning is raised when loading pickled models, you may need to re-serialize those models with scikit-learn 0.21+.\n",
      "  warnings.warn(msg, category=FutureWarning)\n"
     ]
    },
    {
     "data": {
      "text/plain": [
       "['train_model.m']"
      ]
     },
     "execution_count": 19,
     "metadata": {},
     "output_type": "execute_result"
    }
   ],
   "source": [
    "#保存模型\n",
    "from sklearn.externals import joblib #保存模型\n",
    "joblib.dump(clf, \"train_model.m\")"
   ]
  },
  {
   "cell_type": "code",
   "execution_count": 20,
   "metadata": {},
   "outputs": [
    {
     "data": {
      "text/html": [
       "<div>\n",
       "<style scoped>\n",
       "    .dataframe tbody tr th:only-of-type {\n",
       "        vertical-align: middle;\n",
       "    }\n",
       "\n",
       "    .dataframe tbody tr th {\n",
       "        vertical-align: top;\n",
       "    }\n",
       "\n",
       "    .dataframe thead th {\n",
       "        text-align: right;\n",
       "    }\n",
       "</style>\n",
       "<table border=\"1\" class=\"dataframe\">\n",
       "  <thead>\n",
       "    <tr style=\"text-align: right;\">\n",
       "      <th></th>\n",
       "      <th>columns</th>\n",
       "      <th>coef</th>\n",
       "    </tr>\n",
       "  </thead>\n",
       "  <tbody>\n",
       "    <tr>\n",
       "      <th>0</th>\n",
       "      <td>device_type</td>\n",
       "      <td>-0.31461858</td>\n",
       "    </tr>\n",
       "    <tr>\n",
       "      <th>1</th>\n",
       "      <td>C1</td>\n",
       "      <td>0.00023114</td>\n",
       "    </tr>\n",
       "    <tr>\n",
       "      <th>2</th>\n",
       "      <td>C15</td>\n",
       "      <td>-0.00598273</td>\n",
       "    </tr>\n",
       "    <tr>\n",
       "      <th>3</th>\n",
       "      <td>C16</td>\n",
       "      <td>0.0066577</td>\n",
       "    </tr>\n",
       "    <tr>\n",
       "      <th>4</th>\n",
       "      <td>intercept_</td>\n",
       "      <td>0.0005381893801623506</td>\n",
       "    </tr>\n",
       "  </tbody>\n",
       "</table>\n",
       "</div>"
      ],
      "text/plain": [
       "       columns                   coef\n",
       "0  device_type            -0.31461858\n",
       "1           C1             0.00023114\n",
       "2          C15            -0.00598273\n",
       "3          C16              0.0066577\n",
       "4   intercept_  0.0005381893801623506"
      ]
     },
     "execution_count": 20,
     "metadata": {},
     "output_type": "execute_result"
    }
   ],
   "source": [
    "#模型权重与偏执项 \n",
    "clf.coef_.T,clf.intercept_[0]\n",
    "\n",
    "#model.predict(test_data, output_type='probability').head(5)\n",
    "#将模型权重与属性对应\n",
    "import re\n",
    "from pandas import Series,DataFrame #数据存储结构\n",
    "import pandas as pd #数据分析\n",
    "replace_reg = re.compile(r'\\[|\\]')    \n",
    "coef_feature=pd.DataFrame({\"columns\":list(train_df.columns)[1:], \"coef\":[replace_reg.sub('',str(value)) for value in list(clf.coef_.T)]}) #系数与属性对应    \n",
    "coef_b=Series({ 'columns':'intercept_','coef':str(clf.intercept_[0])})\n",
    "coef_feature=coef_feature.append(coef_b,ignore_index=True)\n",
    "coef_feature"
   ]
  },
  {
   "cell_type": "code",
   "execution_count": 22,
   "metadata": {},
   "outputs": [
    {
     "name": "stderr",
     "output_type": "stream",
     "text": [
      "D:\\Program Files\\Anaconda3\\lib\\site-packages\\ipykernel_launcher.py:5: FutureWarning: Method .as_matrix will be removed in a future version. Use .values instead.\n",
      "  \"\"\"\n",
      "D:\\Program Files\\Anaconda3\\lib\\site-packages\\ipykernel_launcher.py:6: FutureWarning: Method .as_matrix will be removed in a future version. Use .values instead.\n",
      "  \n"
     ]
    },
    {
     "data": {
      "text/plain": [
       "(array([['1', '1005', 320, 50],\n",
       "        ['1', '1005', 320, 50],\n",
       "        ['1', '1005', 320, 50],\n",
       "        ...,\n",
       "        ['1', '1005', 320, 50],\n",
       "        ['1', '1005', 320, 50],\n",
       "        ['1', '1005', 320, 50]], dtype=object),\n",
       " array([0, 0, 0, ..., 0, 1, 0], dtype=object))"
      ]
     },
     "execution_count": 22,
     "metadata": {},
     "output_type": "execute_result"
    }
   ],
   "source": [
    "#预测数据处理\n",
    "cv_df = test_data.filter(regex=model_feature)\n",
    "index=model_index        \n",
    "cv_df=cv_df.reindex(index,axis=1)\n",
    "x_test=cv_df.as_matrix()[:,1:]\n",
    "y_test=cv_df.as_matrix()[:,0]\n",
    "x_test,y_test"
   ]
  },
  {
   "cell_type": "code",
   "execution_count": 24,
   "metadata": {},
   "outputs": [
    {
     "name": "stderr",
     "output_type": "stream",
     "text": [
      "D:\\Program Files\\Anaconda3\\lib\\site-packages\\ipykernel_launcher.py:3: SettingWithCopyWarning: \n",
      "A value is trying to be set on a copy of a slice from a DataFrame.\n",
      "Try using .loc[row_indexer,col_indexer] = value instead\n",
      "\n",
      "See the caveats in the documentation: http://pandas.pydata.org/pandas-docs/stable/user_guide/indexing.html#returning-a-view-versus-a-copy\n",
      "  This is separate from the ipykernel package so we can avoid doing imports until\n",
      "D:\\Program Files\\Anaconda3\\lib\\site-packages\\ipykernel_launcher.py:5: SettingWithCopyWarning: \n",
      "A value is trying to be set on a copy of a slice from a DataFrame.\n",
      "Try using .loc[row_indexer,col_indexer] = value instead\n",
      "\n",
      "See the caveats in the documentation: http://pandas.pydata.org/pandas-docs/stable/user_guide/indexing.html#returning-a-view-versus-a-copy\n",
      "  \"\"\"\n"
     ]
    },
    {
     "data": {
      "text/plain": [
       "9394    0.15931\n",
       "898     0.15931\n",
       "2398    0.15931\n",
       "5906    0.15931\n",
       "2343    0.15931\n",
       "         ...   \n",
       "4004    0.15931\n",
       "7375    0.15931\n",
       "9307    0.15931\n",
       "8394    0.15931\n",
       "5233    0.15931\n",
       "Name: proba, Length: 3000, dtype: float64"
      ]
     },
     "execution_count": 24,
     "metadata": {},
     "output_type": "execute_result"
    }
   ],
   "source": [
    "#模型预测\n",
    "proba=clf.predict_proba(x_test)[:,1]\n",
    "test_data['proba']=proba\n",
    "predictions=clf.predict(x_test)\n",
    "test_data['predictions']= predictions\n",
    "test_data['proba'] #预测概率查看"
   ]
  },
  {
   "cell_type": "code",
   "execution_count": 29,
   "metadata": {},
   "outputs": [
    {
     "name": "stdout",
     "output_type": "stream",
     "text": [
      "[0.17466667 1.        ] [1. 0.] [0]\n",
      "              precision    recall  f1-score   support\n",
      "\n",
      "         neg       0.83      1.00      0.90      2476\n",
      "         pos       0.00      0.00      0.00       524\n",
      "\n",
      "    accuracy                           0.83      3000\n",
      "   macro avg       0.41      0.50      0.45      3000\n",
      "weighted avg       0.68      0.83      0.75      3000\n",
      "\n"
     ]
    }
   ],
   "source": [
    "#模型评估\n",
    "from sklearn.metrics import precision_recall_curve, roc_curve, auc  #模型效果评估\n",
    "from sklearn.metrics import classification_report #\n",
    "precision, recall, thresholds = precision_recall_curve(y_test, test_data['predictions'])\n",
    "print(precision, recall, thresholds)\n",
    "report = test_data['proba'] > 0.5\n",
    "#type(y_test[0])\n",
    "y_test=[int(x) for x in y_test] #lable是字符串型，需要转换为int型\n",
    "report_result=classification_report(y_test, report, target_names = ['neg', 'pos']) \n",
    "print(report_result)"
   ]
  },
  {
   "cell_type": "code",
   "execution_count": null,
   "metadata": {},
   "outputs": [],
   "source": []
  }
 ],
 "metadata": {
  "kernelspec": {
   "display_name": "Python 3",
   "language": "python",
   "name": "python3"
  },
  "language_info": {
   "codemirror_mode": {
    "name": "ipython",
    "version": 3
   },
   "file_extension": ".py",
   "mimetype": "text/x-python",
   "name": "python",
   "nbconvert_exporter": "python",
   "pygments_lexer": "ipython3",
   "version": "3.7.1"
  }
 },
 "nbformat": 4,
 "nbformat_minor": 2
}
